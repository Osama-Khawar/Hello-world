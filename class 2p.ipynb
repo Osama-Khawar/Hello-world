{
 "cells": [
  {
   "cell_type": "code",
   "execution_count": 55,
   "id": "3fb424ce",
   "metadata": {},
   "outputs": [
    {
     "name": "stdout",
     "output_type": "stream",
     "text": [
      "osama ok\n"
     ]
    }
   ],
   "source": [
    "ok= \"ok\"\n",
    "print(name,ok)"
   ]
  },
  {
   "cell_type": "markdown",
   "id": "58f1ceeb",
   "metadata": {},
   "source": [
    "<img src =\"variables.png\">"
   ]
  },
  {
   "cell_type": "code",
   "execution_count": 56,
   "id": "77176a3d",
   "metadata": {},
   "outputs": [
    {
     "name": "stdout",
     "output_type": "stream",
     "text": [
      "ok ok\n"
     ]
    }
   ],
   "source": [
    "name=\"ok\"\n",
    "ok=\"ok\"\n",
    "print(ok,name)"
   ]
  },
  {
   "cell_type": "code",
   "execution_count": 13,
   "id": "15f9b517",
   "metadata": {},
   "outputs": [
    {
     "name": "stdout",
     "output_type": "stream",
     "text": [
      "<class 'str'>\n",
      "2839151205232\n"
     ]
    }
   ],
   "source": [
    "name=\"2.0\"\n",
    "print(type(name))\n",
    "print(id(name))"
   ]
  },
  {
   "cell_type": "code",
   "execution_count": 15,
   "id": "bb19ca90",
   "metadata": {},
   "outputs": [
    {
     "name": "stdout",
     "output_type": "stream",
     "text": [
      "osama\n",
      "<class 'str'>\n",
      "2839151200688\n"
     ]
    }
   ],
   "source": [
    "a=\"osama\"\n",
    "print(a)\n",
    "print(type(a))\n",
    "print(id(a))"
   ]
  },
  {
   "cell_type": "code",
   "execution_count": 17,
   "id": "76d63c9a",
   "metadata": {},
   "outputs": [
    {
     "name": "stdout",
     "output_type": "stream",
     "text": [
      "2\n",
      "<class 'int'>\n",
      "140729137337160\n"
     ]
    }
   ],
   "source": [
    "a=2\n",
    "print(a)\n",
    "print(type(a))\n",
    "print(id(a))"
   ]
  },
  {
   "cell_type": "code",
   "execution_count": 26,
   "id": "1bd90619",
   "metadata": {},
   "outputs": [
    {
     "name": "stdout",
     "output_type": "stream",
     "text": [
      "[1, 2, 3, 4, 5, 2, 2]\n",
      "<class 'list'>\n",
      "2839151287872\n"
     ]
    }
   ],
   "source": [
    "a=[1,2,3,4,5,2,2]#list data type\n",
    "print(a)\n",
    "print(type(a))\n",
    "print(id(a))"
   ]
  },
  {
   "cell_type": "code",
   "execution_count": 28,
   "id": "7df3a727",
   "metadata": {},
   "outputs": [
    {
     "name": "stdout",
     "output_type": "stream",
     "text": [
      "{1, 2, 3, 4, 5}\n",
      "<class 'set'>\n",
      "2839150058112\n"
     ]
    }
   ],
   "source": [
    "a={1,2,3,4,5,2,2} #set data type\n",
    "print(a)\n",
    "print(type(a))\n",
    "print(id(a))"
   ]
  },
  {
   "cell_type": "code",
   "execution_count": 39,
   "id": "cd985726",
   "metadata": {},
   "outputs": [
    {
     "name": "stdout",
     "output_type": "stream",
     "text": [
      "{'osama': 'uaction', 'hool': 'ds'}\n",
      "<class 'dict'>\n",
      "2839151284032\n"
     ]
    }
   ],
   "source": [
    "a= {\"osama\":\"uaction\",\"hool\":\"ds\"} #dict data type\n",
    "print(a)\n",
    "print(type(a))\n",
    "print(id(a))"
   ]
  },
  {
   "cell_type": "code",
   "execution_count": 42,
   "id": "f2f5f4fa",
   "metadata": {},
   "outputs": [
    {
     "name": "stdout",
     "output_type": "stream",
     "text": [
      "3 <class 'int'> 140729137337192\n",
      "a <class 'str'> 140729136686256\n",
      "2.3 <class 'float'> 2839136908688\n"
     ]
    }
   ],
   "source": [
    "a=3\n",
    "print(a, type(a), id(a))\n",
    "\n",
    "a=\"a\"\n",
    "print(a, type(a), id(a))\n",
    "\n",
    "a=2.3\n",
    "print(a, type(a), id(a))"
   ]
  },
  {
   "cell_type": "code",
   "execution_count": 43,
   "id": "d3aa01c8",
   "metadata": {},
   "outputs": [
    {
     "name": "stdout",
     "output_type": "stream",
     "text": [
      "3 <class 'int'> 140729137337192\n",
      "a <class 'str'> 140729136686256\n",
      "2.3 <class 'float'> 2839136908176\n"
     ]
    }
   ],
   "source": [
    "a=3\n",
    "print(a, type(a), id(a))\n",
    "\n",
    "a=\"a\"\n",
    "print(a, type(a), id(a))\n",
    "\n",
    "a=2.3\n",
    "print(a, type(a), id(a))"
   ]
  },
  {
   "cell_type": "markdown",
   "id": "e20e6f70",
   "metadata": {},
   "source": [
    "<img src=\"variables.png\">"
   ]
  },
  {
   "cell_type": "code",
   "execution_count": 45,
   "id": "f8b5af34",
   "metadata": {},
   "outputs": [
    {
     "ename": "SyntaxError",
     "evalue": "invalid decimal literal (2924411075.py, line 1)",
     "output_type": "error",
     "traceback": [
      "\u001b[1;36m  Cell \u001b[1;32mIn[45], line 1\u001b[1;36m\u001b[0m\n\u001b[1;33m    a=3print((a), type(a), id(a))\u001b[0m\n\u001b[1;37m      ^\u001b[0m\n\u001b[1;31mSyntaxError\u001b[0m\u001b[1;31m:\u001b[0m invalid decimal literal\n"
     ]
    }
   ],
   "source": [
    "a=3 rint((a), type(a), id(a))"
   ]
  },
  {
   "cell_type": "code",
   "execution_count": 47,
   "id": "7be6960f",
   "metadata": {},
   "outputs": [
    {
     "name": "stdout",
     "output_type": "stream",
     "text": [
      "4\n"
     ]
    }
   ],
   "source": [
    "a=1\n",
    "b=3\n",
    "print(a+b)"
   ]
  },
  {
   "cell_type": "code",
   "execution_count": 51,
   "id": "d6cf0257",
   "metadata": {},
   "outputs": [
    {
     "name": "stdout",
     "output_type": "stream",
     "text": [
      "1 <class 'int'> 140729137337128\n"
     ]
    }
   ],
   "source": [
    "qasim=1\n",
    "print(qasim, type(qasim), id (qasim))\n"
   ]
  },
  {
   "cell_type": "code",
   "execution_count": 53,
   "id": "ad151d53",
   "metadata": {},
   "outputs": [
    {
     "name": "stdout",
     "output_type": "stream",
     "text": [
      "140729137337128 140729137337128\n"
     ]
    }
   ],
   "source": [
    "a=1\n",
    "b=1\n",
    "c=1\n",
    "print(id(a),id(b))"
   ]
  },
  {
   "cell_type": "code",
   "execution_count": 54,
   "id": "67cebb1f",
   "metadata": {},
   "outputs": [
    {
     "name": "stdout",
     "output_type": "stream",
     "text": [
      "140729137337160 140729137337128\n"
     ]
    }
   ],
   "source": [
    "a=2\n",
    "b=1\n",
    "c=1\n",
    "print(id(a),id(b))"
   ]
  },
  {
   "cell_type": "markdown",
   "id": "23a6f607",
   "metadata": {},
   "source": [
    "# Operators"
   ]
  },
  {
   "cell_type": "code",
   "execution_count": null,
   "id": "fd421871",
   "metadata": {},
   "outputs": [],
   "source": []
  }
 ],
 "metadata": {
  "kernelspec": {
   "display_name": "Python 3 (ipykernel)",
   "language": "python",
   "name": "python3"
  },
  "language_info": {
   "codemirror_mode": {
    "name": "ipython",
    "version": 3
   },
   "file_extension": ".py",
   "mimetype": "text/x-python",
   "name": "python",
   "nbconvert_exporter": "python",
   "pygments_lexer": "ipython3",
   "version": "3.11.3"
  }
 },
 "nbformat": 4,
 "nbformat_minor": 5
}
